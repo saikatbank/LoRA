{
 "cells": [
  {
   "cell_type": "markdown",
   "metadata": {},
   "source": [
    "## LoRA - Low Rank Application of Large Language Models"
   ]
  },
  {
   "cell_type": "markdown",
   "metadata": {},
   "source": [
    "### Why LoRA is important?\n",
    "\n",
    "- LoRA significantly reduce the computational cost of Fine-Tuning a Model"
   ]
  },
  {
   "cell_type": "markdown",
   "metadata": {},
   "source": [
    "## What is Fine-Tuning?\n",
    "\n",
    "##### Fine-tuning Definition:\n",
    "- Training a pre-trained network on new data\n",
    "- Enhances performace for specific task\n",
    "\n",
    "##### Example Fine-tune a Language Model (LLM):\n",
    "\n",
    "- Initially trained on multiple programming languages.\n",
    "- Target: Improved performance specifically for SQL.\n",
    "\n",
    "##### Process\n",
    "\n",
    "- Utilize existing knowledge from initial training\n",
    "- Adjust parameters for the new task\n",
    "- Train on task specific data to refine the performence\n",
    "\n",
    "##### Outcome\n",
    "\n",
    "- Enhanced model proficiency in targated area\n",
    "\n",
    "##### Thought:\n",
    "\n",
    "- Fine-tuning leverages the foundation laid by pre-training, making AI models adaptable and specialized for diverse applications.\n"
   ]
  },
  {
   "cell_type": "markdown",
   "metadata": {},
   "source": [
    "## Problems with fine tuning\n",
    "\n",
    "##### Computational Expense:\n",
    "\n",
    "- Training the entire network during fine-tuning is computaionally expensive\n",
    "- Particularly for users who are dealing with an Large Language Model\n",
    "\n",
    "##### Storage Challenges:\n",
    "\n",
    "- Parameter checkpoint requirements are very high\n",
    "- Saving the complete model for each checkpoint is computationally expensive\n",
    "\n",
    "##### Model switching Complexity:\n",
    "\n",
    "- Reloading all the model weights when switching between fine tuned models is necessary\n",
    "- Can be both time-consuming and resource-intensive.\n",
    "- Example: Different models for SQL queries and JavaScript code assistance."
   ]
  },
  {
   "cell_type": "markdown",
   "metadata": {},
   "source": [
    "## How LoRA solves the problem?\n",
    "\n",
    "##### Basic Overview\n",
    "- Neural networks contain dense layers performing matrix multiplication.\n",
    "- Weight matrices typically have full rank.\n",
    "- Aghajanyan et al. (2020) demonstrated that pre-trained language models have a low \"intrinsic dimension.\"\n",
    "- **Hypothesis of LoRA**: Updates to weights during adaptation have a low \"intrinsic rank.\"\n",
    "\n",
    "##### Weight Update Representation:\n",
    "- For a pre-trained weight matrix  $$W_0\\in ℝ^{(d×k)}:$$\n",
    "  - Constrain update by low-rank decomposition: $$ W_0 + \\Delta W = W_0 + BA $$\n",
    "  - Where $$ B \\in \\mathbb{R}^{d \\times r},  A \\in \\mathbb{R}^{r \\times k} \\text{  and  } r \\leq \\min(d, k)$$\n",
    "\n"
   ]
  },
  {
   "cell_type": "markdown",
   "metadata": {},
   "source": [
    "## Libraries"
   ]
  },
  {
   "cell_type": "code",
   "execution_count": 1,
   "metadata": {},
   "outputs": [],
   "source": [
    "import torch\n",
    "import torchvision.datasets as datasets\n",
    "import torchvision.transforms as transforms\n",
    "import torch.nn as nn\n",
    "from torchviz import make_dot\n",
    "import matplotlib.pyplot as plt\n",
    "from tqdm.notebook import tqdm"
   ]
  },
  {
   "cell_type": "markdown",
   "metadata": {},
   "source": [
    "- Make the model determinastic (sets the seed for PyTorch's random number generator to 0, ensuring reproducibility in random processes.)"
   ]
  },
  {
   "cell_type": "code",
   "execution_count": 2,
   "metadata": {},
   "outputs": [],
   "source": [
    "_ = torch.manual_seed(0)"
   ]
  },
  {
   "cell_type": "markdown",
   "metadata": {},
   "source": [
    "#### we will be training a network to classify MNIST digits and fine-tune the network on a particular digit on which model is not performed well"
   ]
  },
  {
   "cell_type": "markdown",
   "metadata": {},
   "source": [
    "transformation includes <br>\n",
    "- converting the image into a tensor\n",
    "- Normalizing the tensor with a mean of 0.1307 and standard deviation 0.3081\n",
    "- These specific values are choosen based on the statistics of the MNIST dataset (explained later)\n",
    "- We can use mean and standard deviation of the standard dataset\n",
    "- The purpose of normalization is to scale the pixel values so that they have a similar scale"
   ]
  },
  {
   "cell_type": "code",
   "execution_count": 3,
   "metadata": {},
   "outputs": [],
   "source": [
    "#creates a sequence of image transformations, normalizes the image to have a mean of 0.1307 and a standard deviation of 0.3081\n",
    "transforms = transforms.Compose([transforms.ToTensor(), transforms.Normalize((0.1307,), (0.3081,))])\n"
   ]
  },
  {
   "cell_type": "code",
   "execution_count": 4,
   "metadata": {},
   "outputs": [],
   "source": [
    "# Load MNIST dataset\n",
    "mnist_trainset = datasets.MNIST(root = './data', train=True, download=True, transform=transforms)\n",
    "\n",
    "# create a loader\n",
    "train_loader = torch.utils.data.DataLoader(mnist_trainset, batch_size=64, shuffle=True)"
   ]
  },
  {
   "cell_type": "code",
   "execution_count": 5,
   "metadata": {},
   "outputs": [
    {
     "name": "stdout",
     "output_type": "stream",
     "text": [
      "Mean: tensor(0.1307)\n",
      "Standard Deviation: tensor(0.3081)\n"
     ]
    }
   ],
   "source": [
    "# Calculate the mean and standard deviation for the MNIST dataset\n",
    "mnist_mean = mnist_trainset.data.float().mean() / 255\n",
    "mnist_std = mnist_trainset.data.float().std() / 255\n",
    "\n",
    "print(\"Mean:\", mnist_mean)\n",
    "print(\"Standard Deviation:\", mnist_std)\n"
   ]
  },
  {
   "cell_type": "code",
   "execution_count": 6,
   "metadata": {},
   "outputs": [],
   "source": [
    "# Load the mnist test dataset\n",
    "mnist_testset = datasets.MNIST(root = './data', train=False, download=True, transform=transforms)\n",
    "test_loader = torch.utils.data.DataLoader(mnist_testset, batch_size=64, shuffle=True)"
   ]
  },
  {
   "cell_type": "code",
   "execution_count": 7,
   "metadata": {},
   "outputs": [
    {
     "data": {
      "text/plain": [
       "device(type='cpu')"
      ]
     },
     "execution_count": 7,
     "metadata": {},
     "output_type": "execute_result"
    }
   ],
   "source": [
    "# define the device\n",
    "device = torch.device(\"cuda:0\" if torch.cuda.is_available() else \"cpu\")\n",
    "device"
   ]
  },
  {
   "cell_type": "markdown",
   "metadata": {},
   "source": [
    "#### Create an overly expensive neural network to classify MNIST digits"
   ]
  },
  {
   "cell_type": "code",
   "execution_count": 8,
   "metadata": {},
   "outputs": [],
   "source": [
    "class ExpensiveNet(nn.Module):\n",
    "    def __init__(self, hidden_size_1 = 1000, hidden_size_2 = 2000):\n",
    "        super(ExpensiveNet, self).__init__()\n",
    "        self.linear1 = nn.Linear(28*28, hidden_size_1)\n",
    "        self.linear2 = nn.Linear(hidden_size_1, hidden_size_2)\n",
    "        self.linear3 = nn.Linear(hidden_size_2, 10)\n",
    "        self.relu = nn.ReLU()\n",
    "\n",
    "    def forward(self, img):\n",
    "        x = img.view(-1, 28*28)\n",
    "        x = self.relu(self.linear1(x))\n",
    "        x = self.relu(self.linear2(x))\n",
    "        x = self.linear3(x)\n",
    "        return x\n",
    "net = ExpensiveNet().to(device)"
   ]
  },
  {
   "cell_type": "code",
   "execution_count": 9,
   "metadata": {},
   "outputs": [
    {
     "data": {
      "text/plain": [
       "'expensive_net.pdf'"
      ]
     },
     "execution_count": 9,
     "metadata": {},
     "output_type": "execute_result"
    }
   ],
   "source": [
    "# Dummy input for visualization\n",
    "dummy_input = torch.randn(1, 1, 28, 28).to(device)\n",
    "\n",
    "# Visualize the network\n",
    "make_dot(net(dummy_input), params=dict(net.named_parameters()))\n",
    "\n",
    "# Create a graph of the neural network\n",
    "graph = make_dot(net(dummy_input), params=dict(net.named_parameters()))\n",
    "\n",
    "# # Save the graph as an image\n",
    "# graph.render(filename='expensive_net', format='png', cleanup=True)\n",
    "\n",
    "# Display the graph\n",
    "# graph.view()"
   ]
  },
  {
   "cell_type": "markdown",
   "metadata": {},
   "source": [
    "Train the network only for few epochs to simulate a complete general pre-training on the data"
   ]
  },
  {
   "cell_type": "code",
   "execution_count": 14,
   "metadata": {},
   "outputs": [],
   "source": [
    "def train(train_loader, net, epochs = 5, total_iteration_limit = None):\n",
    "    cross_el = nn.CrossEntropyLoss()\n",
    "    optimizer = torch.optim.Adam(net.parameters(), lr=0.001)\n",
    "    \n",
    "    total_iteration = 0\n",
    "\n",
    "    for epoch in range(epochs):\n",
    "        net.train()\n",
    "\n",
    "        loss_sum = 0\n",
    "        num_iterations = 0\n",
    "\n",
    "        data_iterator = tqdm(train_loader, desc=f'Training (epoch = {epoch+1}/{epochs})')\n",
    "        if total_iteration_limit is not None:\n",
    "            data_iterator.total = total_iteration_limit\n",
    "        for data in data_iterator:\n",
    "            num_iterations += 1\n",
    "            total_iteration += 1\n",
    "            x,y = data\n",
    "\n",
    "            x = x.to(device)\n",
    "            y = y.to(device)\n",
    "\n",
    "            optimizer.zero_grad()\n",
    "            output = net(x.view(-1, 28*28))\n",
    "            loss = cross_el(output, y)\n",
    "            loss_sum = loss_sum + loss.item()\n",
    "            avg_loss = loss_sum/num_iterations\n",
    "            data_iterator.set_postfix(loss = avg_loss)\n",
    "            loss.backward()\n",
    "            optimizer.step()\n",
    "\n",
    "            if total_iteration_limit is not None and total_iteration >= total_iteration_limit:\n",
    "                break"
   ]
  },
  {
   "cell_type": "code",
   "execution_count": 15,
   "metadata": {},
   "outputs": [
    {
     "data": {
      "application/vnd.jupyter.widget-view+json": {
       "model_id": "5fd94305f46b4fc1a180e93a68f9f436",
       "version_major": 2,
       "version_minor": 0
      },
      "text/plain": [
       "Training (epoch = 1/5):   0%|          | 0/938 [00:00<?, ?it/s]"
      ]
     },
     "metadata": {},
     "output_type": "display_data"
    },
    {
     "data": {
      "application/vnd.jupyter.widget-view+json": {
       "model_id": "b0f62a5f0c78404d8dfc5ad006460631",
       "version_major": 2,
       "version_minor": 0
      },
      "text/plain": [
       "Training (epoch = 2/5):   0%|          | 0/938 [00:00<?, ?it/s]"
      ]
     },
     "metadata": {},
     "output_type": "display_data"
    },
    {
     "data": {
      "application/vnd.jupyter.widget-view+json": {
       "model_id": "c0960b06c46043c191e8c63e61f995f4",
       "version_major": 2,
       "version_minor": 0
      },
      "text/plain": [
       "Training (epoch = 3/5):   0%|          | 0/938 [00:00<?, ?it/s]"
      ]
     },
     "metadata": {},
     "output_type": "display_data"
    },
    {
     "data": {
      "application/vnd.jupyter.widget-view+json": {
       "model_id": "a8e9350f8b064175a6c9e291a322f3a3",
       "version_major": 2,
       "version_minor": 0
      },
      "text/plain": [
       "Training (epoch = 4/5):   0%|          | 0/938 [00:00<?, ?it/s]"
      ]
     },
     "metadata": {},
     "output_type": "display_data"
    },
    {
     "data": {
      "application/vnd.jupyter.widget-view+json": {
       "model_id": "80aa49c79df840b8900d61878fc5ccca",
       "version_major": 2,
       "version_minor": 0
      },
      "text/plain": [
       "Training (epoch = 5/5):   0%|          | 0/938 [00:00<?, ?it/s]"
      ]
     },
     "metadata": {},
     "output_type": "display_data"
    }
   ],
   "source": [
    "train(train_loader, net, epochs = 3)"
   ]
  },
  {
   "cell_type": "markdown",
   "metadata": {},
   "source": [
    "#### Keep a copy of original weights (cloning them), so later we can prove that a fine-tuning with LoRA does not alter the original weights"
   ]
  },
  {
   "cell_type": "code",
   "execution_count": 16,
   "metadata": {},
   "outputs": [],
   "source": [
    "original_weights = {}\n",
    "\n",
    "for name, param in net.named_parameters():\n",
    "    original_weights[name] = param.clone().detach()"
   ]
  },
  {
   "cell_type": "markdown",
   "metadata": {},
   "source": [
    "#### Let's see the performance of the pre-trained network"
   ]
  },
  {
   "cell_type": "code",
   "execution_count": 20,
   "metadata": {},
   "outputs": [
    {
     "name": "stdout",
     "output_type": "stream",
     "text": [
      "Accuracy:  0.98\n",
      "Number 0 wrong count: 8\n",
      "Number 1 wrong count: 5\n",
      "Number 2 wrong count: 29\n",
      "Number 3 wrong count: 18\n",
      "Number 4 wrong count: 13\n",
      "Number 5 wrong count: 29\n",
      "Number 6 wrong count: 16\n",
      "Number 7 wrong count: 20\n",
      "Number 8 wrong count: 24\n",
      "Number 9 wrong count: 34\n"
     ]
    }
   ],
   "source": [
    "def test():\n",
    "    correct = 0\n",
    "    total = 0\n",
    "\n",
    "    wrong_counts = torch.zeros(10)\n",
    "\n",
    "    with torch.no_grad():\n",
    "        for data in test_loader:\n",
    "           x,y = data\n",
    "           x = x.to(device)\n",
    "           y = y.to(device)\n",
    "           output = net(x.view(-1, 28*28))\n",
    "           for idx, i in enumerate(output):\n",
    "               if torch.argmax(i) == y[idx]:\n",
    "                   correct += 1\n",
    "               else:\n",
    "                    wrong_counts[y[idx]] += 1\n",
    "               total += 1\n",
    "\n",
    "    print(\"Accuracy: \", round(correct/total, 3))\n",
    "    for i in range(10):\n",
    "        print(f\"Number {i} wrong count: {int(wrong_counts[i])}\")\n",
    "\n",
    "test()\n"
   ]
  },
  {
   "cell_type": "code",
   "execution_count": 31,
   "metadata": {},
   "outputs": [
    {
     "name": "stdout",
     "output_type": "stream",
     "text": [
      "Layer 0 : Weight: torch.Size([1000, 784]) + Bias: torch.Size([1000])\n",
      "Layer 1 : Weight: torch.Size([2000, 1000]) + Bias: torch.Size([2000])\n",
      "Layer 2 : Weight: torch.Size([10, 2000]) + Bias: torch.Size([10])\n",
      "Total Parameters: 2807010\n"
     ]
    }
   ],
   "source": [
    "def count_parameters(model):\n",
    "    total_params = 0\n",
    "    for index, layer in enumerate([net.linear1, net.linear2, net.linear3]):\n",
    "        total_params += layer.weight.nelement() + layer.bias.nelement()\n",
    "        print(f\"Layer {index} : Weight: {layer.weight.shape} + Bias: {layer.bias.shape}\")\n",
    "    print(f\"Total Parameters: {total_params}\")\n",
    "\n",
    "count_parameters(net)"
   ]
  },
  {
   "cell_type": "code",
   "execution_count": null,
   "metadata": {},
   "outputs": [],
   "source": []
  }
 ],
 "metadata": {
  "kernelspec": {
   "display_name": "base",
   "language": "python",
   "name": "python3"
  },
  "language_info": {
   "codemirror_mode": {
    "name": "ipython",
    "version": 3
   },
   "file_extension": ".py",
   "mimetype": "text/x-python",
   "name": "python",
   "nbconvert_exporter": "python",
   "pygments_lexer": "ipython3",
   "version": "3.8.8"
  }
 },
 "nbformat": 4,
 "nbformat_minor": 2
}
